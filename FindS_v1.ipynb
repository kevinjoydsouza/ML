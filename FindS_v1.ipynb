{
 "cells": [
  {
   "cell_type": "code",
   "execution_count": 10,
   "metadata": {},
   "outputs": [
    {
     "name": "stdout",
     "output_type": "stream",
     "text": [
      "['Sunny', 'Warm', 'Normal', 'Strong', 'Warm', 'Same', 'Yes']\n",
      "['Sunny', 'Warm', 'High', 'Strong', 'Warm', 'Same', 'Yes']\n",
      "['Rainy', 'Cold', 'High', 'Strong', 'Warm', 'Change', 'No']\n",
      "['Sunny', 'Warm', 'High', 'Strong', 'Cool', 'Change', 'Yes']\n"
     ]
    }
   ],
   "source": [
    "import csv\n",
    "a=[]\n",
    "with open('C:\\\\Users\\\\LENOVO\\\\Desktop\\\\finds.csv','r') as csvFile:\n",
    "    reader = csv.reader(csvFile)\n",
    "    for row in reader: \n",
    "        a.append(row) \n",
    "        print(row)"
   ]
  },
  {
   "cell_type": "code",
   "execution_count": 11,
   "metadata": {},
   "outputs": [],
   "source": [
    "h = [['0', '0', '0', '0', '0', '0']]"
   ]
  },
  {
   "cell_type": "code",
   "execution_count": 15,
   "metadata": {},
   "outputs": [
    {
     "name": "stdout",
     "output_type": "stream",
     "text": [
      "['Sunny', 'Warm', 'Normal', 'Strong', 'Warm', 'Same', 'Yes']\n",
      "['Sunny', 'Warm', 'High', 'Strong', 'Warm', 'Same', 'Yes']\n",
      "['Rainy', 'Cold', 'High', 'Strong', 'Warm', 'Change', 'No']\n",
      "['Sunny', 'Warm', 'High', 'Strong', 'Cool', 'Change', 'Yes']\n",
      "Most specific hypothesis is\n",
      "[['Sunny', 'Warm', '?', 'Strong', '?', '?']]\n"
     ]
    }
   ],
   "source": [
    "for i in your_list:\n",
    "    print(i)\n",
    "    if i[-1] == \"Yes\":\n",
    "        j = 0\n",
    "        for x in i:\n",
    "            if x != \"Yes\":\n",
    "                if x != h[0][j] and h[0][j] == '0':\n",
    "                    h[0][j] = x\n",
    "                elif x != h[0][j] and h[0][j] != '0':\n",
    "                    h[0][j] = '?'\n",
    "                else:\n",
    "                    pass\n",
    "                j = j + 1\n",
    "print(\"Most specific hypothesis is\")\n",
    "print(h)"
   ]
  },
  {
   "cell_type": "code",
   "execution_count": null,
   "metadata": {},
   "outputs": [],
   "source": []
  }
 ],
 "metadata": {
  "kernelspec": {
   "display_name": "Python 3",
   "language": "python",
   "name": "python3"
  },
  "language_info": {
   "codemirror_mode": {
    "name": "ipython",
    "version": 3
   },
   "file_extension": ".py",
   "mimetype": "text/x-python",
   "name": "python",
   "nbconvert_exporter": "python",
   "pygments_lexer": "ipython3",
   "version": "3.6.5"
  }
 },
 "nbformat": 4,
 "nbformat_minor": 2
}
